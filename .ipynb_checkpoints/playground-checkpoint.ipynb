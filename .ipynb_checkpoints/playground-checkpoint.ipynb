{
 "cells": [
  {
   "cell_type": "code",
   "execution_count": 2,
   "id": "affd5ad4-42ad-4259-96cd-155910f7d25a",
   "metadata": {},
   "outputs": [],
   "source": [
    "import numpy as np\n",
    "import matplotlib.pyplot as plt"
   ]
  },
  {
   "cell_type": "markdown",
   "id": "42a02a5a-ad42-4ae4-b0ca-f7581bb7553d",
   "metadata": {},
   "source": [
    "### Parameters"
   ]
  },
  {
   "cell_type": "code",
   "execution_count": 8,
   "id": "96bafba9-215f-4f16-b5be-bacab162920f",
   "metadata": {},
   "outputs": [],
   "source": [
    "N = 100  # double check numbers\n",
    "K = 200\n",
    "\n",
    "dt = 0.01\n",
    "t_max = 1."
   ]
  },
  {
   "cell_type": "markdown",
   "id": "3eb08f72-327f-4fb9-ad73-cd5950b47d65",
   "metadata": {},
   "source": [
    "### Definition"
   ]
  },
  {
   "cell_type": "code",
   "execution_count": null,
   "id": "6263bdd1",
   "metadata": {},
   "outputs": [],
   "source": [
    "# neurons\n",
    "u = np.zeros(K)\n",
    "u_hat = np.zeros(K)\n",
    "v = np.zeros(K)\n",
    "v_hat = ? #constant\n",
    "B = np.zeros(K)\n",
    "\n",
    "# synapses\n",
    "W = np.zeros((K, N))\n",
    "V = np.zeros((K, K))\n",
    "\n",
    "# EPSP\n",
    "x = np.zeros(N)\n",
    "y = np.zeors(K)\n",
    "\n",
    "#Heaviside step function.\n",
    "def heav(s):\n",
    "    return 1 if s>0 else 0\n",
    "\n",
    "#Kernel function\n",
    "tau = ?\n",
    "def eps(s):\n",
    "    return np.exp(-s/tau)*heav(s)"
   ]
  },
  {
   "cell_type": "markdown",
   "id": "e3bd3976-cb16-490f-b8e9-bd3c44335006",
   "metadata": {},
   "source": [
    "### Execution"
   ]
  },
  {
   "cell_type": "code",
   "execution_count": null,
   "id": "8ae74238-feff-46f3-9541-9feac922b1d0",
   "metadata": {},
   "outputs": [],
   "source": [
    "t=?\n",
    "for t_i in np.arange(0, t_max, dt):\n",
    "    for i in range(N):\n",
    "        for j in range(K):\n",
    "            y[j] += eps(t-t_i)\n",
    "        x[i] += eps(t-t_i)\n",
    "        \n",
    "        \n",
    "for k in range(K):\n",
    "    u_hat[k] = np.sum(W[k, :] * x[:]) + np.sum(V[k, :] * y[:]) + B[k]\n",
    "    i_t = np.log(np.sum(np.exp(u_hat[:])))\n",
    "    u[k] = u_hat[k] - i_t\n",
    "    v[k] = v_hat * np.exp(u[k])"
   ]
  }
 ],
 "metadata": {
  "kernelspec": {
   "display_name": "Python 3 (ipykernel)",
   "language": "python",
   "name": "python3"
  },
  "language_info": {
   "codemirror_mode": {
    "name": "ipython",
    "version": 3
   },
   "file_extension": ".py",
   "mimetype": "text/x-python",
   "name": "python",
   "nbconvert_exporter": "python",
   "pygments_lexer": "ipython3",
   "version": "3.9.15"
  }
 },
 "nbformat": 4,
 "nbformat_minor": 5
}
