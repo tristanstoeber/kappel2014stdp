{
 "cells": [
  {
   "cell_type": "code",
   "execution_count": 2,
   "id": "affd5ad4-42ad-4259-96cd-155910f7d25a",
   "metadata": {},
   "outputs": [],
   "source": [
    "import numpy as np\n",
    "import matplotlib.pyplot as plt"
   ]
  },
  {
   "cell_type": "markdown",
   "id": "42a02a5a-ad42-4ae4-b0ca-f7581bb7553d",
   "metadata": {},
   "source": [
    "### Parameters"
   ]
  },
  {
   "cell_type": "code",
   "execution_count": 8,
   "id": "96bafba9-215f-4f16-b5be-bacab162920f",
   "metadata": {},
   "outputs": [],
   "source": [
    "N = 100  # double check numbers\n",
    "K = 200\n",
    "\n",
    "dt = 0.01\n",
    "t_max = 1."
   ]
  },
  {
   "cell_type": "markdown",
   "id": "3eb08f72-327f-4fb9-ad73-cd5950b47d65",
   "metadata": {},
   "source": [
    "### Definition"
   ]
  },
  {
   "cell_type": "code",
   "execution_count": 13,
   "id": "46f622f7-d3d6-459d-b964-0e76414b9ac3",
   "metadata": {},
   "outputs": [
    {
     "ename": "NameError",
     "evalue": "name 'K' is not defined",
     "output_type": "error",
     "traceback": [
      "\u001b[0;31m---------------------------------------------------------------------------\u001b[0m",
      "\u001b[0;31mNameError\u001b[0m                                 Traceback (most recent call last)",
      "\u001b[0;32m/var/folders/1x/pjr85krn4d9dm0h089qwfmnh0000gn/T/ipykernel_31093/3278469544.py\u001b[0m in \u001b[0;36m<module>\u001b[0;34m\u001b[0m\n\u001b[1;32m      1\u001b[0m \u001b[0;31m# neurons\u001b[0m\u001b[0;34m\u001b[0m\u001b[0;34m\u001b[0m\u001b[0m\n\u001b[0;32m----> 2\u001b[0;31m \u001b[0mu\u001b[0m \u001b[0;34m=\u001b[0m \u001b[0mnp\u001b[0m\u001b[0;34m.\u001b[0m\u001b[0mzeros\u001b[0m\u001b[0;34m(\u001b[0m\u001b[0mK\u001b[0m\u001b[0;34m)\u001b[0m\u001b[0;34m\u001b[0m\u001b[0;34m\u001b[0m\u001b[0m\n\u001b[0m\u001b[1;32m      3\u001b[0m \u001b[0mu_hat\u001b[0m \u001b[0;34m=\u001b[0m \u001b[0mnp\u001b[0m\u001b[0;34m.\u001b[0m\u001b[0mzeros\u001b[0m\u001b[0;34m(\u001b[0m\u001b[0mK\u001b[0m\u001b[0;34m)\u001b[0m\u001b[0;34m\u001b[0m\u001b[0;34m\u001b[0m\u001b[0m\n\u001b[1;32m      4\u001b[0m \u001b[0;34m\u001b[0m\u001b[0m\n\u001b[1;32m      5\u001b[0m \u001b[0;31m# synapses\u001b[0m\u001b[0;34m\u001b[0m\u001b[0;34m\u001b[0m\u001b[0m\n",
      "\u001b[0;31mNameError\u001b[0m: name 'K' is not defined"
     ]
    }
   ],
   "source": [
    "# neurons\n",
    "u = np.zeros(K)\n",
    "u_hat = np.zeros(K)\n",
    "\n",
    "# synapses\n",
    "W = np.zeros((K, N))\n",
    "V = np.zeros((K, K))\n",
    "\n",
    "# EPSP\n",
    "x_t = np.zeros(N)\n",
    "y_t = np.zeors(K)\n",
    "for i in range(N):\n",
    "        for j in range(K):\n",
    "            y_t[j] = np.sum(eps(t-t_prime))\n",
    "        x_t[i] = np.sum(eps(t-t_prime))\n"
   ]
  },
  {
   "cell_type": "markdown",
   "id": "e3bd3976-cb16-490f-b8e9-bd3c44335006",
   "metadata": {},
   "source": [
    "### Execution"
   ]
  },
  {
   "cell_type": "code",
   "execution_count": null,
   "id": "8ae74238-feff-46f3-9541-9feac922b1d0",
   "metadata": {},
   "outputs": [],
   "source": [
    "for t_i in np.arange(0, t_max, dt):\n",
    "    t_prime = ???\n",
    "    u_hat = np.sum(W[k, :] * x_t[:]) + np.sum(V[k, :] * y_t[:]) + b"
   ]
  },
  {
   "cell_type": "code",
   "execution_count": null,
   "id": "09219a7e",
   "metadata": {},
   "outputs": [],
   "source": []
  },
  {
   "cell_type": "code",
   "execution_count": 15,
   "id": "bacd3faa",
   "metadata": {},
   "outputs": [
    {
     "data": {
      "text/plain": [
       "54.0"
      ]
     },
     "execution_count": 15,
     "metadata": {},
     "output_type": "execute_result"
    }
   ],
   "source": [
    "trial = np.ones((8, 10))\n",
    "trial[3, 3]=4\n",
    "x = np.arange(10)\n",
    "np.sum(trial[3,:]*x[:])"
   ]
  }
 ],
 "metadata": {
  "kernelspec": {
   "display_name": "Python 3 (ipykernel)",
   "language": "python",
   "name": "python3"
  },
  "language_info": {
   "codemirror_mode": {
    "name": "ipython",
    "version": 3
   },
   "file_extension": ".py",
   "mimetype": "text/x-python",
   "name": "python",
   "nbconvert_exporter": "python",
   "pygments_lexer": "ipython3",
   "version": "3.9.15"
  }
 },
 "nbformat": 4,
 "nbformat_minor": 5
}
