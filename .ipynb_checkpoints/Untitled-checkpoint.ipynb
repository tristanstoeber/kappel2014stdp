{
 "cells": [
  {
   "cell_type": "code",
   "execution_count": null,
   "id": "da630b7c",
   "metadata": {},
   "outputs": [],
   "source": [
    "#Matlab snn_sample_hmmdt.m code in Jupyter\n",
    "\n",
    "import numpy as np\n",
    "\n",
    "def snn_sample_hmmdt(net, data, ct):\n",
    "    t = data['time'][ct[0]]\n",
    "    \n",
    "    time_range = data['time'][ct[-1]] - data['time'][ct[0]]\n",
    "    \n",
    "    num_spikes = round(net['sample_rate'] * time_range) - 1\n",
    "    d_spikes = (time_range / (num_spikes))\n",
    "    spike_times = np.arange(data['time'][ct[0]] + d_spikes, data['time'][ct[-1]] + d_spikes, d_spikes)\n",
    "    \n",
    "    rec_spikes = np.hstack((net['rec_spikes'], np.inf * np.ones((2, num_spikes))))\n",
    "    num_rs = net['rec_spikes'].shape[1]\n",
    "    \n",
    "    Z = np.zeros((2, num_spikes), dtype='float32')\n",
    "    P = np.zeros((net['num_neurons'] + 1, num_spikes), dtype='float32')\n",
    "    net['At'] = np.zeros((2, num_spikes), dtype='float32')\n",
    "    \n",
    "    last_input_spikes = np.full(net['num_inputs'], t)\n",
    "    last_output_spikes = np.full(net['num_neurons'], t)\n",
    "    \n",
    "    hX = net['hX']\n",
    "    hZ = net['hZ']    \n",
    "    \n",
    "    W_exp = np.exp(net['W'].astype(float))\n",
    "    V_n_exp = np.exp(-net['V'].astype(float))\n",
    "    \n",
    "    net['d_W'] = np.zeros((net['num_neurons'], net['num_inputs']))\n",
    "    net['d_V'] = np.zeros((net['num_neurons'], net['num_neurons']))\n",
    "    net['d_V0'] = np.zeros((net['num_neurons'], 1))\n",
    "    \n",
    "    i = 1\n",
    "    l = 1\n",
    "    \n",
    "    hX_all = np.zeros((net['num_inputs'], num_spikes))\n",
    "    hZ_all = np.zeros((net['num_neurons'], num_spikes))\n",
    "    \n",
    "    if net['use_variance_tracking']:\n",
    "        SW_new = net['SW']\n",
    "        QW_new = net['QW']\n",
    "\n",
    "        SV_new = net['SV']\n",
    "        QV_new = net['QV']\n",
    "\n",
    "        S0_new = net['S0']\n",
    "        Q0_new = net['Q0']\n",
    "        \n",
    "        net['eta_W'] = net['eta'] * (QW_new - SW_new ** 2) / (np.exp(-SW_new) + 1)\n",
    "        net['eta_V'] = net['eta'] * (QV_new - SV_new ** 2) / (np.exp(-SV_new) + 1)\n",
    "        net['eta_0'] = net['eta'] * (Q0_new - S0_new ** 2) / (np.exp(-S0_new) + 1)\n",
    "\n",
    "    return net, Z, P\n"
   ]
  }
 ],
 "metadata": {
  "kernelspec": {
   "display_name": "Python 3 (ipykernel)",
   "language": "python",
   "name": "python3"
  },
  "language_info": {
   "codemirror_mode": {
    "name": "ipython",
    "version": 3
   },
   "file_extension": ".py",
   "mimetype": "text/x-python",
   "name": "python",
   "nbconvert_exporter": "python",
   "pygments_lexer": "ipython3",
   "version": "3.9.15"
  }
 },
 "nbformat": 4,
 "nbformat_minor": 5
}
