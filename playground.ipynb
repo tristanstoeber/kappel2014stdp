{
 "cells": [
  {
   "cell_type": "code",
   "execution_count": 1,
   "id": "affd5ad4-42ad-4259-96cd-155910f7d25a",
   "metadata": {},
   "outputs": [],
   "source": [
    "import numpy as np\n",
    "import matplotlib.pyplot as plt"
   ]
  },
  {
   "cell_type": "markdown",
   "id": "42a02a5a-ad42-4ae4-b0ca-f7581bb7553d",
   "metadata": {},
   "source": [
    "### Parameters"
   ]
  },
  {
   "cell_type": "code",
   "execution_count": 8,
   "id": "96bafba9-215f-4f16-b5be-bacab162920f",
   "metadata": {},
   "outputs": [],
   "source": [
    "N = 100  # double check numbers\n",
    "K = 200\n",
    "\n",
    "dt = 0.01\n",
    "t_max = 1."
   ]
  },
  {
   "cell_type": "markdown",
   "id": "3eb08f72-327f-4fb9-ad73-cd5950b47d65",
   "metadata": {},
   "source": [
    "### Definition"
   ]
  },
  {
   "cell_type": "code",
   "execution_count": 9,
   "id": "46f622f7-d3d6-459d-b964-0e76414b9ac3",
   "metadata": {},
   "outputs": [],
   "source": [
    "# neurons\n",
    "u = np.zeros(K)\n",
    "u_hat = np.zeros(K)\n",
    "\n",
    "# synapses\n",
    "\n"
   ]
  },
  {
   "cell_type": "markdown",
   "id": "e3bd3976-cb16-490f-b8e9-bd3c44335006",
   "metadata": {},
   "source": [
    "### Execution"
   ]
  },
  {
   "cell_type": "code",
   "execution_count": null,
   "id": "8ae74238-feff-46f3-9541-9feac922b1d0",
   "metadata": {},
   "outputs": [],
   "source": [
    "for t_i in np.arange(0, t_max, dt):\n",
    "    u_hat = "
   ]
  }
 ],
 "metadata": {
  "kernelspec": {
   "display_name": "Python 3 (ipykernel)",
   "language": "python",
   "name": "python3"
  },
  "language_info": {
   "codemirror_mode": {
    "name": "ipython",
    "version": 3
   },
   "file_extension": ".py",
   "mimetype": "text/x-python",
   "name": "python",
   "nbconvert_exporter": "python",
   "pygments_lexer": "ipython3",
   "version": "3.10.5"
  }
 },
 "nbformat": 4,
 "nbformat_minor": 5
}
